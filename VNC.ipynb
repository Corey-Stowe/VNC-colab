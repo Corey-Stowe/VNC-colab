{
  "nbformat": 4,
  "nbformat_minor": 0,
  "metadata": {
    "colab": {
      "name": "VNC.ipynb",
      "provenance": [],
      "authorship_tag": "ABX9TyN0fyQ+x882dhOMELf2pQK6",
      "include_colab_link": true
    },
    "kernelspec": {
      "name": "python3",
      "display_name": "Python 3"
    }
  },
  "cells": [
    {
      "cell_type": "markdown",
      "metadata": {
        "id": "view-in-github",
        "colab_type": "text"
      },
      "source": [
        "<a href=\"https://colab.research.google.com/github/Corey-Stowe/VNC-colab/blob/main/VNC.ipynb\" target=\"_parent\"><img src=\"https://colab.research.google.com/assets/colab-badge.svg\" alt=\"Open In Colab\"/></a>"
      ]
    },
    {
      "cell_type": "code",
      "metadata": {
        "colab": {
          "base_uri": "https://localhost:8080/"
        },
        "id": "IZhhHwjMyyQO",
        "outputId": "4daac36e-e996-47c4-b6bc-4b0340e4407d"
      },
      "source": [
        "! wget https://raw.githubusercontent.com/Corey-Stowe/VNC-colab/main/vnc.sh &> /dev/null\r\n",
        "! chmod +x vnc.sh\r\n",
        "! ./vnc.sh"
      ],
      "execution_count": 1,
      "outputs": [
        {
          "output_type": "stream",
          "text": [
            "Installing VNC please wait... \n",
            "Setup Complete \n",
            "Go to https://remotedesktop.google.com/headless  Copy Command Of Debian Linux And Paste Down\n",
            "Paste Here: DISPLAY= /opt/google/chrome-remote-desktop/start-host --code=\"4/0AY0e-g5DgmAkjXJWycOzgSZkeG6E55lmW5laAWz5FlEOncw0z_mBm6Xs9lK-_1mf-UnRJw\" --redirect-url=\"https://remotedesktop.google.com/_/oauthredirect\" --name=$(hostname)\n",
            "Enter a PIN of at least six digits: \n",
            "Enter the same PIN again: \n",
            "[1231/052417.499144:ERROR:cert_verify_proc_builtin.cc(559)] No net_fetcher for performing AIA chasing.\n",
            "[1231/052417.554563:WARNING:host_config.cc(54)] Failed to read /home/Stowe/.config/chrome-remote-desktop/host#0391f2c5b23c9fc95f517a4e9cfe1a46.json\n",
            "[1231/052417.651076:ERROR:cert_verify_proc_builtin.cc(559)] No net_fetcher for performing AIA chasing.\n",
            "[1231/052418.477357:INFO:daemon_controller_delegate_linux.cc(99)] 2020-12-31 05:24:18,465:INFO:User 'Stowe' is already a member of 'chrome-remote-desktop'.\n",
            "\n",
            "[1231/052420.696354:INFO:daemon_controller_delegate_linux.cc(99)] [1231/052418.603495:INFO:remoting_user_session.cc(754)] Daemon process started in the background, logging to '/tmp/chrome_remote_desktop_20201231_052418_u38l8M'\n",
            "Using host_id: 9ad54965-91e8-454b-8453-8cab4c61955c\n",
            "Launching X server and X session.\n",
            "Starting Xvfb on display :20\n",
            "X server is active.\n",
            "Launching X session: ['/bin/sh', '/etc/chrome-remote-desktop-session']\n",
            "Launching host process\n",
            "['/opt/google/chrome-remote-desktop/chrome-remote-desktop-host', '--host-config=-', '--audio-pipe-name=/home/Stowe/.config/chrome-remote-desktop/pulseaudio#0391f2c5b2/fifo_output', '--server-supports-exact-resize', '--ssh-auth-sockname=/tmp/chromoting.Stowe.ssh_auth_sock', '--signal-parent']\n",
            "Host ready to receive connections.\n",
            "Log file: /tmp/chrome_remote_desktop_20201231_052418_u38l8M\n",
            "\n",
            "Check https://remotedesktop.google.com/access/ \n",
            "\n",
            "\n",
            "\n",
            "Upgrade Completed "
          ],
          "name": "stdout"
        }
      ]
    }
  ]
}